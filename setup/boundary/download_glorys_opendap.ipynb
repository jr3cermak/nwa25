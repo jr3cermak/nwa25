{
 "cells": [
  {
   "cell_type": "code",
   "execution_count": null,
   "id": "77fa806d-cae9-43c1-9d1b-68ce4031c3af",
   "metadata": {},
   "outputs": [],
   "source": [
    "import warnings\n",
    "\n",
    "import matplotlib.pyplot as plt\n",
    "import numpy as np\n",
    "import pandas as pd\n",
    "import requests as rq\n",
    "import xarray as xr\n",
    "import getpass\n",
    "import os.path\n",
    "import os\n",
    "import pandas as pd\n",
    "%matplotlib inline\n",
    "warnings.simplefilter(\"ignore\")\n",
    "\n",
    "outpath = \"/glade/scratch/jsimkins/glorys/\"\n",
    "DATASET_ID = 'cmems_mod_glo_phy_my_0.083_P1D-m'\n",
    "USERNAME = ''\n",
    "PASSWORD = getpass.getpass('Enter your password: ')\n",
    "\n",
    "def copernicusmarine_datastore(dataset, username, password):\n",
    "    from pydap.client import open_url\n",
    "    from pydap.cas.get_cookies import setup_session\n",
    "    cas_url = 'https://cmems-cas.cls.fr/cas/login'\n",
    "    session = setup_session(cas_url, username, password)\n",
    "    session.cookies.set(\"CASTGC\", session.cookies.get_dict()['CASTGC'])\n",
    "    database = ['my', 'nrt']\n",
    "    url = f'https://{database[0]}.cmems-du.eu/thredds/dodsC/{dataset}'\n",
    "    try:\n",
    "        data_store = xr.backends.PydapDataStore(open_url(url, session=session))\n",
    "    except:\n",
    "        url = f'https://{database[1]}.cmems-du.eu/thredds/dodsC/{dataset}'\n",
    "        data_store = xr.backends.PydapDataStore(open_url(url, session=session))\n",
    "    return data_store\n",
    "\n",
    "data_store = copernicusmarine_datastore(DATASET_ID, USERNAME, PASSWORD)\n",
    "#--variable so --variable thetao --variable uo --variable vo --variable zos \n",
    "DS = xr.open_dataset(data_store)\n",
    "DS = DS.sel(latitude=slice(-20,90), longitude=slice(-100,40))\n",
    "DS = DS.drop(\"usi\")\n",
    "DS = DS.drop(\"vsi\")\n",
    "DS = DS.drop(\"siconc\")\n",
    "DS = DS.drop(\"sithick\")\n",
    "DS = DS.drop(\"bottomT\")\n",
    "DS = DS.drop(\"mlotst\")\n",
    "\n",
    "drange = pd.date_range(\"1995-01-01\", \"1996-01-01\")\n",
    "\n",
    "for d in drange:\n",
    "    print(d)\n",
    "    temp = DS.sel(time=str(str(d.year) + \"-\" + str(d.month) + \"-\" + str(d.day)))\n",
    "    if os.path.isfile(outpath + \"glorys_\" + str(d.year) + f'{d.month:02d}' + f'{d.day:02d}' + \".nc\") == False:\n",
    "        temp.to_netcdf(outpath + \"glorys_\" + str(d.year) + f'{d.month:02d}' + f'{d.day:02d}' + \".nc\", format='NETCDF3_64BIT')"
   ]
  },
  {
   "cell_type": "code",
   "execution_count": null,
   "id": "c646ea4f-f47c-4872-af4b-d118920a534a",
   "metadata": {},
   "outputs": [],
   "source": [
    "\n"
   ]
  }
 ],
 "metadata": {
  "kernelspec": {
   "display_name": "Python 3 (ipykernel)",
   "language": "python",
   "name": "python3"
  },
  "language_info": {
   "codemirror_mode": {
    "name": "ipython",
    "version": 3
   },
   "file_extension": ".py",
   "mimetype": "text/x-python",
   "name": "python",
   "nbconvert_exporter": "python",
   "pygments_lexer": "ipython3",
   "version": "3.9.7"
  }
 },
 "nbformat": 4,
 "nbformat_minor": 5
}
