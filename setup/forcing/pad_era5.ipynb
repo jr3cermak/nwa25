{
 "cells": [
  {
   "cell_type": "markdown",
   "id": "70f89ef2-adb8-44dc-ae9b-06e6c688beca",
   "metadata": {},
   "source": [
    "# Pad ERA5 Forcing File using Xarray"
   ]
  },
  {
   "cell_type": "code",
   "execution_count": null,
   "id": "c7d6cbc9-2385-4955-ab66-6d0e60c4c16a",
   "metadata": {},
   "outputs": [],
   "source": [
    "# using xarray\n",
    "import xarray as xr\n",
    "import os\n",
    "import cftime\n",
    "import numpy as np\n",
    "\n",
    "datadir='/glade/scratch/jsimkins/ERA5/original/'\n",
    "outdir='/glade/scratch/jsimkins/ERA5/padded/'\n",
    "year=1996\n",
    "era5_dict = {'ERA5_sea_ice_cover':'siconc',\n",
    "            'ERA5_10m_u_component_of_wind':'u10',\n",
    "            'ERA5_sea_surface_temperature':'sst',\n",
    "            'ERA5_10m_v_component_of_wind':'v10',\n",
    "            'ERA5_2m_temperature':'t2m',\n",
    "            'ERA5_surface_solar_radiation_downwards':'ssrd',\n",
    "            'ERA5_surface_thermal_radiation_downwards':'strd',\n",
    "            'ERA5_total_rain_rate':'trr',\n",
    "            'ERA5_mean_sea_level_pressure':'msl',\n",
    "            'ERA5_2m_specific_humidity':'huss'}\n",
    "\n",
    "for f in era5_dict.keys():\n",
    "    print(f)\n",
    "    # open the file for current year\n",
    "    current = xr.open_dataset(f\"{datadir}/{f}_{year}.nc\", decode_times=False)\n",
    "    previous = xr.open_dataset(f\"{datadir}/{f}_{year-1}.nc\", decode_times=False).isel(time=-1)\n",
    "    next_data = xr.open_dataset(f\"{datadir}/{f}_{year+1}.nc\", decode_times=False).isel(time=0)\n",
    "    out = xr.concat([previous, current, next_data], dim=\"time\")\n",
    "    current.close()\n",
    "    previous.close()\n",
    "    next_data.close()\n",
    "    # write output file\n",
    "    #fileout = infile.replace(\".nc\", \".padded.nc\")\n",
    "    out.to_netcdf(f'{outdir}{f}_{year}.nc', format=\"NETCDF4_CLASSIC\", unlimited_dims=\"time\")\n",
    "    out.close()"
   ]
  },
  {
   "cell_type": "markdown",
   "id": "2fbc23d0-f0eb-4c5a-8062-73f1d48da3e0",
   "metadata": {},
   "source": [
    "# Pad ERA5 Forcing file using Climate Data Operator (CDO) Mergetime"
   ]
  },
  {
   "cell_type": "code",
   "execution_count": null,
   "id": "a32f85cf-afa8-41ab-be22-5d39acde0652",
   "metadata": {},
   "outputs": [],
   "source": [
    "# using cdo\n",
    "import xarray as xr\n",
    "import os\n",
    "import cftime\n",
    "import numpy as np\n",
    "\n",
    "datadir='/glade/scratch/jsimkins/ERA5/original/'\n",
    "outdir='/glade/scratch/jsimkins/ERA5/padded/'\n",
    "year=1996\n",
    "era5_dict = {'ERA5_sea_ice_cover':'siconc',\n",
    "            'ERA5_10m_u_component_of_wind':'u10',\n",
    "            'ERA5_sea_surface_temperature':'sst',\n",
    "            'ERA5_10m_v_component_of_wind':'v10',\n",
    "            'ERA5_2m_temperature':'t2m',\n",
    "            'ERA5_surface_solar_radiation_downwards':'ssrd',\n",
    "            'ERA5_surface_thermal_radiation_downwards':'strd',\n",
    "            'ERA5_total_rain_rate':'trr',\n",
    "            'ERA5_mean_sea_level_pressure':'msl',\n",
    "            'ERA5_2m_specific_humidity':'huss'}\n",
    "\n",
    "for f in era5_dict.keys():\n",
    "    # grab previous 2 timestamps and next 2 timestamps. We need 2 timestamps so time is stored as a dimension for each variable. This enables CDO mergetime to work properly.\n",
    "    previous = xr.open_dataset(f\"{datadir}/{f}_{year-1}.nc\", decode_times=False).isel(time=slice(-3,-1))\n",
    "    next_data = xr.open_dataset(f\"{datadir}/{f}_{year+1}.nc\", decode_times=False).isel(time=slice(0,2))\n",
    "\n",
    "    previous.to_netcdf(f'{outdir}/prev.nc', format=\"NETCDF4\",unlimited_dims='time')\n",
    "    next_data.to_netcdf(f'{outdir}/next.nc', format=\"NETCDF4\",unlimited_dims='time')\n",
    "    previous.close()\n",
    "    next_data.close()\n",
    "    \n",
    "    # make a system call to use CDO mergetime to concatenate our data\n",
    "    os.system(str(\"cdo -b F32 -f nc4c mergetime \" + outdir + \"prev.nc \" + datadir + f + \"_\" + str(year) + \".nc \" + outdir + \"next.nc \" + outdir + f))  \n"
   ]
  }
 ],
 "metadata": {
  "kernelspec": {
   "display_name": "Python 3 (ipykernel)",
   "language": "python",
   "name": "python3"
  },
  "language_info": {
   "codemirror_mode": {
    "name": "ipython",
    "version": 3
   },
   "file_extension": ".py",
   "mimetype": "text/x-python",
   "name": "python",
   "nbconvert_exporter": "python",
   "pygments_lexer": "ipython3",
   "version": "3.9.7"
  }
 },
 "nbformat": 4,
 "nbformat_minor": 5
}
