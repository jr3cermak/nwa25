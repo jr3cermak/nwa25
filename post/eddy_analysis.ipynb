{
 "cells": [
  {
   "cell_type": "code",
   "execution_count": null,
   "id": "727d2604-1984-41f8-a633-542ae96ce1b4",
   "metadata": {},
   "outputs": [],
   "source": [
    "from matplotlib import pyplot as plt\n",
    "\n",
    "from py_eddy_tracker import data\n",
    "from py_eddy_tracker.observations.observation import EddiesObservations\n",
    "\n",
    "# %%\n",
    "# Load detection files\n",
    "a = EddiesObservations.load_file(data.get_demo_path(\"Anticyclonic_20190223.nc\"))\n",
    "\n",
    "# %%\n",
    "# Plot the speed and effective (dashed) contours\n",
    "fig = plt.figure(figsize=(15, 8))\n",
    "ax = fig.add_axes((0.05, 0.05, 0.9, 0.9))\n",
    "ax.set_aspect(\"equal\")\n",
    "ax.set_xlim(10, 70)\n",
    "ax.set_ylim(-50, -25)\n",
    "a.display(ax, label=\"Anticyclonic contour\", color=\"r\", lw=1)\n",
    "\n",
    "# Replace contours by circles using center and radius (effective is dashed)\n",
    "a.circle_contour()\n",
    "a.display(ax, label=\"Anticyclonic circle\", color=\"g\", lw=1)\n",
    "_ = ax.legend(loc=\"upper right\")"
   ]
  }
 ],
 "metadata": {
  "kernelspec": {
   "display_name": "Python 3 (ipykernel)",
   "language": "python",
   "name": "python3"
  },
  "language_info": {
   "codemirror_mode": {
    "name": "ipython",
    "version": 3
   },
   "file_extension": ".py",
   "mimetype": "text/x-python",
   "name": "python",
   "nbconvert_exporter": "python",
   "pygments_lexer": "ipython3",
   "version": "3.9.7"
  }
 },
 "nbformat": 4,
 "nbformat_minor": 5
}
