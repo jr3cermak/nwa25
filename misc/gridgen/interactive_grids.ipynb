{
 "cells": [
  {
   "cell_type": "markdown",
   "id": "cb05b8a2-fd11-4fdc-b87d-317b33d32dd8",
   "metadata": {},
   "source": [
    "# Create an Interactive Grid using ESMG Gridtools"
   ]
  },
  {
   "cell_type": "code",
   "execution_count": 11,
   "id": "87833e3f-7fb4-4ed3-bf10-01bdeb24339a",
   "metadata": {},
   "outputs": [
    {
     "name": "stdout",
     "output_type": "stream",
     "text": [
      "Launching server at http://localhost:60357\n"
     ]
    },
    {
     "data": {
      "text/plain": [
       "<bokeh.server.server.Server at 0x14a826880>"
      ]
     },
     "execution_count": 11,
     "metadata": {},
     "output_type": "execute_result"
    }
   ],
   "source": [
    "# import gridtools\n",
    "from gridtools.gridutils import GridUtils\n",
    "\n",
    "grd = GridUtils()\n",
    "dashboard = grd.app()\n",
    "dashboard.show()"
   ]
  },
  {
   "cell_type": "code",
   "execution_count": null,
   "id": "7b37c209-6286-4ed1-ba7f-5a857ce677bf",
   "metadata": {},
   "outputs": [],
   "source": []
  }
 ],
 "metadata": {
  "kernelspec": {
   "display_name": "Python 3 (ipykernel)",
   "language": "python",
   "name": "python3"
  },
  "language_info": {
   "codemirror_mode": {
    "name": "ipython",
    "version": 3
   },
   "file_extension": ".py",
   "mimetype": "text/x-python",
   "name": "python",
   "nbconvert_exporter": "python",
   "pygments_lexer": "ipython3",
   "version": "3.9.7"
  }
 },
 "nbformat": 4,
 "nbformat_minor": 5
}
